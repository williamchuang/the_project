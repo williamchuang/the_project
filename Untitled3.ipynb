{
 "cells": [
  {
   "cell_type": "code",
   "execution_count": 1,
   "metadata": {
    "collapsed": false
   },
   "outputs": [
    {
     "name": "stdout",
     "output_type": "stream",
     "text": [
      "Server Version: 76\n",
      "TWS Time at connection:20180601 19:29:01 PST\n",
      "[-1, 2104, 'Market data farm connection is OK:usfuture']\n",
      "[-1, 2105, 'HMDS data farm connection is broken:ilhmds']\n",
      "[-1, 2105, 'HMDS data farm connection is broken:ushmds']\n",
      "[-1, 2105, 'HMDS data farm connection is broken:ushmds']\n"
     ]
    }
   ],
   "source": [
    "import warnings\n",
    "warnings.filterwarnings('ignore')\n",
    "import pandas as pd\n",
    "import numpy as np\n",
    "import time\n",
    "from datetime import datetime\n",
    "from IBWrapper import IBWrapper, contract\n",
    "from ib.ext.EClientSocket import EClientSocket\n",
    "from ib.ext.ScannerSubscription import ScannerSubscription\n",
    "accountName = \"U9038813\"\n",
    "callback = IBWrapper()             # Instantiate IBWrapper. callback \n",
    "tws = EClientSocket(callback)      # Instantiate EClientSocket and return data to callback\n",
    "# host = \"192.168.1.165\"\n",
    "host = \"\"\n",
    "port = 7496\n",
    "clientId = 5669\n",
    "tws.eConnect(host, port, clientId) # Connect to TWS\n",
    "create = contract()                # Instantiate contract class\n",
    "callback.initiate_variables()\n",
    "tws.reqAccountUpdates(1, accountName)\n",
    "tws.reqIds(1)\n",
    "order_id = callback.next_ValidId + 1\n"
   ]
  },
  {
   "cell_type": "code",
   "execution_count": 2,
   "metadata": {
    "collapsed": true
   },
   "outputs": [],
   "source": [
    "tws.eDisconnect()"
   ]
  },
  {
   "cell_type": "code",
   "execution_count": null,
   "metadata": {
    "collapsed": true
   },
   "outputs": [],
   "source": []
  }
 ],
 "metadata": {
  "kernelspec": {
   "display_name": "py_36_env",
   "language": "python",
   "name": "py_36_env"
  },
  "language_info": {
   "codemirror_mode": {
    "name": "ipython",
    "version": 3
   },
   "file_extension": ".py",
   "mimetype": "text/x-python",
   "name": "python",
   "nbconvert_exporter": "python",
   "pygments_lexer": "ipython3",
   "version": "3.6.5"
  }
 },
 "nbformat": 4,
 "nbformat_minor": 0
}
