{
 "cells": [
  {
   "cell_type": "code",
   "execution_count": null,
   "metadata": {
    "collapsed": true
   },
   "outputs": [],
   "source": [
    "import warnings\n",
    "warnings.filterwarnings('ignore')\n",
    "import pandas as pd\n",
    "import numpy as np\n",
    "import time\n",
    "from datetime import datetime\n",
    "from IBWrapper import IBWrapper, contract\n",
    "from ib.ext.EClientSocket import EClientSocket\n",
    "from ib.ext.ScannerSubscription import ScannerSubscription\n",
    "accountName = \"U9038813\"\n",
    "callback = IBWrapper()             # Instantiate IBWrapper. callback \n",
    "tws = EClientSocket(callback)      # Instantiate EClientSocket and return data to callback\n",
    "# host = \"192.168.1.165\"\n",
    "host = \"\"\n",
    "port = 7496\n",
    "clientId = 5732\n",
    "tws.eConnect(host, port, clientId) # Connect to TWS\n",
    "create = contract()                # Instantiate contract class\n",
    "callback.initiate_variables()\n",
    "tws.reqAccountUpdates(1, accountName)\n",
    "tws.reqIds(1)\n",
    "order_id = callback.next_ValidId + 1\n",
    "\n",
    "clientId = clientId + 1\n",
    "order_id = order_id + 1\n",
    "tickerId = 9007\n",
    "\n",
    "#start routine:\n",
    "    try:\n",
    "        while True:\n",
    "            # use creds to create a client to interact with the Google Drive API\n",
    "            scope = ['https://spreadsheets.google.com/feeds', 'https://www.googleapis.com/auth/drive']\n",
    "            creds = ServiceAccountCredentials.from_json_keyfile_name('Spreadsheet-5f9f3b27a502.json', scope)\n",
    "            gc= gspread.authorize(creds)\n",
    "            sh = gc.open('A new spreadsheet')\n",
    "            worksheet = sh.get_worksheet(0)\n",
    "            \n",
    "            while i<len(callback.historical_Data):\n",
    "    \n",
    "                wks.update_acell('A'+str(i+1), str(callback.historical_Data[i][1]))\n",
    "                wks.update_acell('B'+str(i+1), str(callback.historical_Data[i][2]))\n",
    "                wks.update_acell('C'+str(i+1), str(callback.historical_Data[i][3]))\n",
    "                wks.update_acell('D'+str(i+1), str(callback.historical_Data[i][4]))\n",
    "                wks.update_acell('E'+str(i+1), str(callback.historical_Data[i][5]))\n",
    "\n",
    "\n",
    "    except KeyBoardInterrupt:\n",
    "        #exit the loop with CTRL_C   \n",
    "        print(\"current_order_id\"+str(current_order_id)) \n",
    "\n",
    "tws.eDisconnect()"
   ]
  }
 ],
 "metadata": {
  "kernelspec": {
   "display_name": "py_36_env",
   "language": "python",
   "name": "py_36_env"
  },
  "language_info": {
   "codemirror_mode": {
    "name": "ipython",
    "version": 3
   },
   "file_extension": ".py",
   "mimetype": "text/x-python",
   "name": "python",
   "nbconvert_exporter": "python",
   "pygments_lexer": "ipython3",
   "version": "3.6.5"
  }
 },
 "nbformat": 4,
 "nbformat_minor": 0
}
