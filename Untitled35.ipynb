{
 "cells": [
  {
   "cell_type": "code",
   "execution_count": 1,
   "metadata": {},
   "outputs": [],
   "source": [
    "import warnings\n",
    "warnings.filterwarnings('ignore')\n",
    "import pandas as pd\n",
    "import numpy as np"
   ]
  },
  {
   "cell_type": "code",
   "execution_count": 2,
   "metadata": {},
   "outputs": [],
   "source": [
    "import time\n",
    "from datetime import datetime\n",
    "from IBWrapper import IBWrapper, contract\n",
    "from ib.ext.EClientSocket import EClientSocket\n",
    "from ib.ext.ScannerSubscription import ScannerSubscription"
   ]
  },
  {
   "cell_type": "code",
   "execution_count": 33,
   "metadata": {},
   "outputs": [
    {
     "name": "stdout",
     "output_type": "stream",
     "text": [
      "[-1, 2103, 'Market data farm connection is broken:cashfarm']\n",
      "[-1, 2104, 'Market data farm connection is OK:cashfarm']\n",
      "[-1, 2103, 'Market data farm connection is broken:cashfarm']\n",
      "[-1, 2103, 'Market data farm connection is broken:cashfarm']\n",
      "[-1, 2103, 'Market data farm connection is broken:cashfarm']\n",
      "[-1, 2104, 'Market data farm connection is OK:cashfarm']\n",
      "[-1, 2103, 'Market data farm connection is broken:cashfarm']\n",
      "[-1, 2104, 'Market data farm connection is OK:cashfarm']\n",
      "[-1, 2103, 'Market data farm connection is broken:hfarm']\n",
      "[-1, 2104, 'Market data farm connection is OK:hfarm']\n",
      "[-1, 2103, 'Market data farm connection is broken:secdefil']\n",
      "[-1, 2103, 'Market data farm connection is broken:secdefil']\n",
      "[-1, 2103, 'Market data farm connection is broken:secdefil']\n",
      "[-1, 2103, 'Market data farm connection is broken:secdefil']\n",
      "[-1, 2103, 'Market data farm connection is broken:secdefil']\n",
      "[-1, 2103, 'Market data farm connection is broken:secdefil']\n",
      "[-1, 2104, 'Market data farm connection is OK:secdefil']\n",
      "[-1, 2103, 'Market data farm connection is broken:secdefil']\n",
      "[-1, 2104, 'Market data farm connection is OK:secdefil']\n",
      "[-1, 2105, 'HMDS data farm connection is broken:fundfarm']\n",
      "[-1, 2105, 'HMDS data farm connection is broken:fundfarm']\n",
      "[-1, 2105, 'HMDS data farm connection is broken:fundfarm']\n",
      "[-1, 2105, 'HMDS data farm connection is broken:fundfarm']\n",
      "[-1, 2105, 'HMDS data farm connection is broken:fundfarm']\n",
      "[-1, 2105, 'HMDS data farm connection is broken:euhmds']\n",
      "[-1, 2105, 'HMDS data farm connection is broken:euhmds']\n",
      "[-1, 2105, 'HMDS data farm connection is broken:euhmds']\n",
      "[-1, 2105, 'HMDS data farm connection is broken:euhmds']\n",
      "[-1, 2105, 'HMDS data farm connection is broken:fundfarm']\n",
      "[-1, 2105, 'HMDS data farm connection is broken:euhmds']\n",
      "[-1, 2105, 'HMDS data farm connection is broken:fundfarm']\n",
      "[-1, 2105, 'HMDS data farm connection is broken:euhmds']\n",
      "[-1, 2105, 'HMDS data farm connection is broken:fundfarm']\n",
      "[-1, 2105, 'HMDS data farm connection is broken:euhmds']\n",
      "[-1, 2105, 'HMDS data farm connection is broken:fundfarm']\n",
      "[-1, 2105, 'HMDS data farm connection is broken:euhmds']\n",
      "[-1, 2103, 'Market data farm connection is broken:eufarm']\n",
      "[-1, 2103, 'Market data farm connection is broken:eufarm']\n",
      "[-1, 2105, 'HMDS data farm connection is broken:fundfarm']\n",
      "[-1, 2103, 'Market data farm connection is broken:eufarm']\n",
      "[-1, 2105, 'HMDS data farm connection is broken:euhmds']\n",
      "[-1, 2103, 'Market data farm connection is broken:eufarm']\n",
      "[-1, 2104, 'Market data farm connection is OK:eufarm']\n",
      "[-1, 2105, 'HMDS data farm connection is broken:ilhmds']\n",
      "[-1, 2105, 'HMDS data farm connection is broken:ushmds']\n",
      "[-1, 2106, 'HMDS data farm connection is OK:ilhmds']\n",
      "[-1, 2106, 'HMDS data farm connection is OK:ushmds']\n",
      "[-1, 2105, 'HMDS data farm connection is broken:ushmds']\n",
      "[-1, 2105, 'HMDS data farm connection is broken:ilhmds']\n",
      "[-1, 2106, 'HMDS data farm connection is OK:ushmds']\n",
      "[-1, 2106, 'HMDS data farm connection is OK:ilhmds']\n",
      "[-1, 2103, 'Market data farm connection is broken:eufarm']\n",
      "[-1, 2104, 'Market data farm connection is OK:eufarm']\n",
      "[-1, 2105, 'HMDS data farm connection is broken:fundfarm']\n",
      "[-1, 2105, 'HMDS data farm connection is broken:ushmds']\n",
      "[-1, 2106, 'HMDS data farm connection is OK:ushmds']\n",
      "[-1, 2105, 'HMDS data farm connection is broken:euhmds']\n",
      "[-1, 2105, 'HMDS data farm connection is broken:ushmds']\n",
      "[-1, 2106, 'HMDS data farm connection is OK:ushmds']\n",
      "[-1, 2105, 'HMDS data farm connection is broken:ushmds']\n",
      "[-1, 2105, 'HMDS data farm connection is broken:ushmds']\n",
      "[-1, 2105, 'HMDS data farm connection is broken:ilhmds']\n",
      "[-1, 2105, 'HMDS data farm connection is broken:ilhmds']\n",
      "[-1, 2105, 'HMDS data farm connection is broken:ushmds']\n",
      "[-1, 2105, 'HMDS data farm connection is broken:ilhmds']\n",
      "[-1, 2105, 'HMDS data farm connection is broken:ushmds']\n",
      "[-1, 2105, 'HMDS data farm connection is broken:ilhmds']\n",
      "[-1, 2105, 'HMDS data farm connection is broken:fundfarm']\n",
      "[-1, 2105, 'HMDS data farm connection is broken:euhmds']\n",
      "[-1, 2106, 'HMDS data farm connection is OK:ushmds']\n",
      "[-1, 2106, 'HMDS data farm connection is OK:ilhmds']\n",
      "[-1, 2103, 'Market data farm connection is broken:eufarm']\n",
      "[-1, 2103, 'Market data farm connection is broken:eufarm']\n",
      "[-1, 2105, 'HMDS data farm connection is broken:euhmds']\n",
      "[-1, 2103, 'Market data farm connection is broken:eufarm']\n",
      "[-1, 2105, 'HMDS data farm connection is broken:fundfarm']\n",
      "[-1, 2104, 'Market data farm connection is OK:eufarm']\n",
      "[-1, 2106, 'HMDS data farm connection is OK:euhmds']\n",
      "[-1, 2106, 'HMDS data farm connection is OK:fundfarm']\n",
      "[-1, 2103, 'Market data farm connection is broken:eufarm']\n",
      "[-1, 2104, 'Market data farm connection is OK:eufarm']\n",
      "[-1, 2105, 'HMDS data farm connection is broken:fundfarm']\n",
      "[-1, 2106, 'HMDS data farm connection is OK:fundfarm']\n",
      "[-1, 2105, 'HMDS data farm connection is broken:euhmds']\n",
      "[-1, 2106, 'HMDS data farm connection is OK:euhmds']\n",
      "[-1, 2103, 'Market data farm connection is broken:eufarm']\n",
      "[-1, 2104, 'Market data farm connection is OK:eufarm']\n",
      "[-1, 2103, 'Market data farm connection is broken:usfuture']\n",
      "[-1, 2104, 'Market data farm connection is OK:usfuture']\n",
      "[-1, 2103, 'Market data farm connection is broken:usfuture']\n",
      "[-1, 2103, 'Market data farm connection is broken:usfarm']\n",
      "[-1, 2104, 'Market data farm connection is OK:usfuture']\n",
      "[-1, 2104, 'Market data farm connection is OK:usfarm']\n",
      "[-1, 2103, 'Market data farm connection is broken:usfarm.us']\n",
      "[-1, 2104, 'Market data farm connection is OK:usfarm.us']\n",
      "[-1, 2103, 'Market data farm connection is broken:usfarm.us']\n",
      "[-1, 2104, 'Market data farm connection is OK:usfarm.us']\n",
      "[-1, 1100, 'Connectivity between IB and Trader Workstation has been lost.']\n",
      "[-1, 1100, 'Connectivity between IB and Trader Workstation has been lost.']\n",
      "[-1, 1100, 'Connectivity between IB and Trader Workstation has been lost.']\n",
      "[-1, 1100, 'Connectivity between IB and Trader Workstation has been lost.']\n",
      "[-1, 1100, 'Connectivity between IB and Trader Workstation has been lost.']\n",
      "[-1, 1100, 'Connectivity between IB and Trader Workstation has been lost.']\n",
      "[-1, 1100, 'Connectivity between IB and Trader Workstation has been lost.']\n",
      "[-1, 1100, 'Connectivity between IB and Trader Workstation has been lost.']\n",
      "[-1, 2103, 'Market data farm connection is broken:hfarm']\n",
      "[-1, 2103, 'Market data farm connection is broken:eufarm']\n",
      "[-1, 2103, 'Market data farm connection is broken:jfarm']\n",
      "[-1, 2108, 'Market data farm connection is inactive but should be available upon demand.usfarm.us']\n",
      "[-1, 2103, 'Market data farm connection is broken:usfuture']\n",
      "[-1, 2103, 'Market data farm connection is broken:cashfarm']\n",
      "[-1, 2105, 'HMDS data farm connection is broken:fundfarm']\n",
      "[-1, 2105, 'HMDS data farm connection is broken:ushmds']\n",
      "[-1, 2105, 'HMDS data farm connection is broken:euhmds']\n",
      "[-1, 2105, 'HMDS data farm connection is broken:ilhmds']\n",
      "[-1, 2103, 'Market data farm connection is broken:secdefil']\n",
      "[-1, 2103, 'Market data farm connection is broken:usfarm']\n",
      "[-1, 2103, 'Market data farm connection is broken:usfarm.us']\n",
      "[-1, 1102, 'Connectivity between IB and Trader Workstation has been restored - data maintained.']\n",
      "[-1, 2106, 'HMDS data farm connection is OK:ushmds']\n",
      "[-1, 2104, 'Market data farm connection is OK:usfarm']\n",
      "[-1, 2104, 'Market data farm connection is OK:secdefil']\n",
      "[-1, 2104, 'Market data farm connection is OK:usfuture']\n",
      "[-1, 2106, 'HMDS data farm connection is OK:fundfarm']\n",
      "[-1, 2104, 'Market data farm connection is OK:cashfarm']\n",
      "[-1, 2106, 'HMDS data farm connection is OK:ilhmds']\n",
      "[-1, 2106, 'HMDS data farm connection is OK:euhmds']\n",
      "[-1, 2104, 'Market data farm connection is OK:eufarm']\n",
      "[-1, 2104, 'Market data farm connection is OK:hfarm']\n",
      "[-1, 2104, 'Market data farm connection is OK:jfarm']\n",
      "[-1, 2105, 'HMDS data farm connection is broken:fundfarm']\n",
      "[-1, 2106, 'HMDS data farm connection is OK:fundfarm']\n",
      "[-1, 2103, 'Market data farm connection is broken:cashfarm']\n",
      "[-1, 2104, 'Market data farm connection is OK:cashfarm']\n",
      "[-1, 2105, 'HMDS data farm connection is broken:euhmds']\n",
      "[-1, 2106, 'HMDS data farm connection is OK:euhmds']\n",
      "[error('unpack requires a bytes object of length 1',), None, None]\n"
     ]
    }
   ],
   "source": [
    "accountName = \"U9038813\"\n",
    "callback = IBWrapper()             # Instantiate IBWrapper. callback \n",
    "tws = EClientSocket(callback)      # Instantiate EClientSocket and return data to callback\n",
    "# host = \"192.168.1.165\"\n",
    "host = \"\"\n",
    "port = 7497\n",
    "clientId = 5563"
   ]
  },
  {
   "cell_type": "code",
   "execution_count": 6,
   "metadata": {},
   "outputs": [
    {
     "name": "stdout",
     "output_type": "stream",
     "text": [
      "Server Version: 76\n",
      "TWS Time at connection:20180704 14:09:48 EST\n",
      "[-1, 2104, 'Market data farm connection is OK:hfarm']\n",
      "[-1, 2104, 'Market data farm connection is OK:eufarm']\n",
      "[-1, 2104, 'Market data farm connection is OK:jfarm']\n",
      "[-1, 2104, 'Market data farm connection is OK:usfuture']\n",
      "[-1, 2104, 'Market data farm connection is OK:cashfarm']\n",
      "[-1, 2104, 'Market data farm connection is OK:usfarm.us']\n",
      "[-1, 2104, 'Market data farm connection is OK:usfarm']\n",
      "[-1, 2106, 'HMDS data farm connection is OK:ilhmds']\n",
      "[-1, 2106, 'HMDS data farm connection is OK:euhmds']\n",
      "[-1, 2106, 'HMDS data farm connection is OK:fundfarm']\n",
      "[-1, 2106, 'HMDS data farm connection is OK:ushmds']\n"
     ]
    }
   ],
   "source": [
    "tws.eConnect(host, port, clientId) # Connect to TWS"
   ]
  },
  {
   "cell_type": "code",
   "execution_count": 7,
   "metadata": {},
   "outputs": [],
   "source": [
    "tws.setServerLogLevel(5)  "
   ]
  },
  {
   "cell_type": "code",
   "execution_count": 8,
   "metadata": {},
   "outputs": [],
   "source": [
    "create = contract()                # Instantiate contract class\n",
    "callback.initiate_variables()"
   ]
  },
  {
   "cell_type": "code",
   "execution_count": 9,
   "metadata": {},
   "outputs": [],
   "source": [
    "tws.reqAccountUpdates(1, accountName)"
   ]
  },
  {
   "cell_type": "code",
   "execution_count": 10,
   "metadata": {},
   "outputs": [
    {
     "data": {
      "text/html": [
       "<div>\n",
       "<style scoped>\n",
       "    .dataframe tbody tr th:only-of-type {\n",
       "        vertical-align: middle;\n",
       "    }\n",
       "\n",
       "    .dataframe tbody tr th {\n",
       "        vertical-align: top;\n",
       "    }\n",
       "\n",
       "    .dataframe thead th {\n",
       "        text-align: right;\n",
       "    }\n",
       "</style>\n",
       "<table border=\"1\" class=\"dataframe\">\n",
       "  <thead>\n",
       "    <tr style=\"text-align: right;\">\n",
       "      <th></th>\n",
       "      <th>key</th>\n",
       "      <th>value</th>\n",
       "      <th>currency</th>\n",
       "      <th>accountName</th>\n",
       "    </tr>\n",
       "  </thead>\n",
       "  <tbody>\n",
       "    <tr>\n",
       "      <th>0</th>\n",
       "      <td>AccountCode</td>\n",
       "      <td>U9038813</td>\n",
       "      <td>None</td>\n",
       "      <td>U9038813</td>\n",
       "    </tr>\n",
       "    <tr>\n",
       "      <th>1</th>\n",
       "      <td>AccountOrGroup</td>\n",
       "      <td>U9038813</td>\n",
       "      <td>BASE</td>\n",
       "      <td>U9038813</td>\n",
       "    </tr>\n",
       "    <tr>\n",
       "      <th>2</th>\n",
       "      <td>AccountOrGroup</td>\n",
       "      <td>U9038813</td>\n",
       "      <td>USD</td>\n",
       "      <td>U9038813</td>\n",
       "    </tr>\n",
       "  </tbody>\n",
       "</table>\n",
       "</div>"
      ],
      "text/plain": [
       "              key     value currency accountName\n",
       "0     AccountCode  U9038813     None    U9038813\n",
       "1  AccountOrGroup  U9038813     BASE    U9038813\n",
       "2  AccountOrGroup  U9038813      USD    U9038813"
      ]
     },
     "execution_count": 10,
     "metadata": {},
     "output_type": "execute_result"
    }
   ],
   "source": [
    "pd.DataFrame(callback.update_AccountValue, \n",
    "            columns = ['key', 'value', 'currency', 'accountName'])[:3]"
   ]
  },
  {
   "cell_type": "code",
   "execution_count": 11,
   "metadata": {},
   "outputs": [
    {
     "data": {
      "text/html": [
       "<div>\n",
       "<style scoped>\n",
       "    .dataframe tbody tr th:only-of-type {\n",
       "        vertical-align: middle;\n",
       "    }\n",
       "\n",
       "    .dataframe tbody tr th {\n",
       "        vertical-align: top;\n",
       "    }\n",
       "\n",
       "    .dataframe thead th {\n",
       "        text-align: right;\n",
       "    }\n",
       "</style>\n",
       "<table border=\"1\" class=\"dataframe\">\n",
       "  <thead>\n",
       "    <tr style=\"text-align: right;\">\n",
       "      <th></th>\n",
       "      <th>Contract ID</th>\n",
       "      <th>Currency</th>\n",
       "      <th>Expiry</th>\n",
       "      <th>Include Expired</th>\n",
       "      <th>Local Symbol</th>\n",
       "      <th>Multiplier</th>\n",
       "      <th>Primary Exchange</th>\n",
       "      <th>Right</th>\n",
       "      <th>Security Type</th>\n",
       "      <th>Strike</th>\n",
       "      <th>Symbol</th>\n",
       "      <th>Trading Class</th>\n",
       "      <th>Position</th>\n",
       "      <th>Market Price</th>\n",
       "      <th>Market Value</th>\n",
       "      <th>Average Cost</th>\n",
       "      <th>Unrealised PnL</th>\n",
       "      <th>Realised PnL</th>\n",
       "      <th>Account Name</th>\n",
       "    </tr>\n",
       "  </thead>\n",
       "  <tbody>\n",
       "  </tbody>\n",
       "</table>\n",
       "</div>"
      ],
      "text/plain": [
       "Empty DataFrame\n",
       "Columns: [Contract ID, Currency, Expiry, Include Expired, Local Symbol, Multiplier, Primary Exchange, Right, Security Type, Strike, Symbol, Trading Class, Position, Market Price, Market Value, Average Cost, Unrealised PnL, Realised PnL, Account Name]\n",
       "Index: []"
      ]
     },
     "execution_count": 11,
     "metadata": {},
     "output_type": "execute_result"
    }
   ],
   "source": [
    "pd.DataFrame(callback.update_Portfolio, \n",
    "             columns=['Contract ID','Currency',\n",
    "                      'Expiry','Include Expired',\n",
    "                      'Local Symbol','Multiplier',\n",
    "                      'Primary Exchange','Right',\n",
    "                      'Security Type','Strike',\n",
    "                      'Symbol','Trading Class',\n",
    "                      'Position','Market Price','Market Value',\n",
    "                      'Average Cost', 'Unrealised PnL', 'Realised PnL', \n",
    "                      'Account Name'])[:3]"
   ]
  },
  {
   "cell_type": "code",
   "execution_count": 12,
   "metadata": {},
   "outputs": [
    {
     "data": {
      "text/plain": [
       "'14:11'"
      ]
     },
     "execution_count": 12,
     "metadata": {},
     "output_type": "execute_result"
    }
   ],
   "source": [
    "callback.update_AccountTime"
   ]
  },
  {
   "cell_type": "code",
   "execution_count": 13,
   "metadata": {},
   "outputs": [],
   "source": [
    "tws.reqAccountSummary(2,\"All\",\"NetLiquidation\")"
   ]
  },
  {
   "cell_type": "code",
   "execution_count": 14,
   "metadata": {},
   "outputs": [
    {
     "data": {
      "text/html": [
       "<div>\n",
       "<style scoped>\n",
       "    .dataframe tbody tr th:only-of-type {\n",
       "        vertical-align: middle;\n",
       "    }\n",
       "\n",
       "    .dataframe tbody tr th {\n",
       "        vertical-align: top;\n",
       "    }\n",
       "\n",
       "    .dataframe thead th {\n",
       "        text-align: right;\n",
       "    }\n",
       "</style>\n",
       "<table border=\"1\" class=\"dataframe\">\n",
       "  <thead>\n",
       "    <tr style=\"text-align: right;\">\n",
       "      <th></th>\n",
       "      <th>Request_ID</th>\n",
       "      <th>Account</th>\n",
       "      <th>Tag</th>\n",
       "      <th>Value</th>\n",
       "      <th>Curency</th>\n",
       "    </tr>\n",
       "  </thead>\n",
       "  <tbody>\n",
       "    <tr>\n",
       "      <th>0</th>\n",
       "      <td>2</td>\n",
       "      <td>U9038813</td>\n",
       "      <td>NetLiquidation</td>\n",
       "      <td>10862.41</td>\n",
       "      <td>USD</td>\n",
       "    </tr>\n",
       "  </tbody>\n",
       "</table>\n",
       "</div>"
      ],
      "text/plain": [
       "   Request_ID   Account             Tag     Value Curency\n",
       "0           2  U9038813  NetLiquidation  10862.41     USD"
      ]
     },
     "execution_count": 14,
     "metadata": {},
     "output_type": "execute_result"
    }
   ],
   "source": [
    "pd.DataFrame(callback.account_Summary, \n",
    "             columns = ['Request_ID','Account','Tag','Value','Curency'])[:2]"
   ]
  },
  {
   "cell_type": "code",
   "execution_count": 15,
   "metadata": {},
   "outputs": [],
   "source": [
    "tws.reqPositions()"
   ]
  },
  {
   "cell_type": "code",
   "execution_count": 16,
   "metadata": {},
   "outputs": [
    {
     "data": {
      "text/html": [
       "<div>\n",
       "<style scoped>\n",
       "    .dataframe tbody tr th:only-of-type {\n",
       "        vertical-align: middle;\n",
       "    }\n",
       "\n",
       "    .dataframe tbody tr th {\n",
       "        vertical-align: top;\n",
       "    }\n",
       "\n",
       "    .dataframe thead th {\n",
       "        text-align: right;\n",
       "    }\n",
       "</style>\n",
       "<table border=\"1\" class=\"dataframe\">\n",
       "  <thead>\n",
       "    <tr style=\"text-align: right;\">\n",
       "      <th></th>\n",
       "      <th>Account</th>\n",
       "      <th>Contract ID</th>\n",
       "      <th>Currency</th>\n",
       "      <th>Exchange</th>\n",
       "      <th>Expiry</th>\n",
       "      <th>Include Expired</th>\n",
       "      <th>Local Symbol</th>\n",
       "      <th>Multiplier</th>\n",
       "      <th>Right</th>\n",
       "      <th>Security Type</th>\n",
       "      <th>Strike</th>\n",
       "      <th>Symbol</th>\n",
       "      <th>Trading Class</th>\n",
       "      <th>Position</th>\n",
       "      <th>Average Cost</th>\n",
       "    </tr>\n",
       "  </thead>\n",
       "  <tbody>\n",
       "  </tbody>\n",
       "</table>\n",
       "</div>"
      ],
      "text/plain": [
       "Empty DataFrame\n",
       "Columns: [Account, Contract ID, Currency, Exchange, Expiry, Include Expired, Local Symbol, Multiplier, Right, Security Type, Strike, Symbol, Trading Class, Position, Average Cost]\n",
       "Index: []"
      ]
     },
     "execution_count": 16,
     "metadata": {},
     "output_type": "execute_result"
    }
   ],
   "source": [
    "dat = pd.DataFrame(callback.update_Position, \n",
    "                   columns=['Account','Contract ID','Currency','Exchange','Expiry',\n",
    "                            'Include Expired','Local Symbol','Multiplier','Right',\n",
    "                            'Security Type','Strike','Symbol','Trading Class',\n",
    "                            'Position','Average Cost'])\n",
    "dat[dat[\"Account\"] == accountName]"
   ]
  },
  {
   "cell_type": "code",
   "execution_count": 23,
   "metadata": {},
   "outputs": [
    {
     "name": "stdout",
     "output_type": "stream",
     "text": [
      "create_contract\n"
     ]
    }
   ],
   "source": [
    "tws.reqIds(1)\n",
    "order_id = callback.next_ValidId + 1\n",
    "contract_info = create.create_contract('AAPL', 'STK', 'SMART', 'USD', expiry=None)\n",
    "order_info = create.create_order(accountName, \"MKT\", 1, \"BUY\")"
   ]
  },
  {
   "cell_type": "code",
   "execution_count": 24,
   "metadata": {},
   "outputs": [
    {
     "name": "stdout",
     "output_type": "stream",
     "text": [
      "[4, 354, 'You are trying to submit an order without having market data for this instrument.\\nIB strongly recommends against this kind of blind trading\\nwhich may result in erroneous or unexpected trades.\\nRestriction is specified in Precautionary Settings of Global Configuration/Presets.']\n"
     ]
    }
   ],
   "source": [
    "tws.placeOrder(order_id, contract_info, order_info)"
   ]
  },
  {
   "cell_type": "code",
   "execution_count": 31,
   "metadata": {},
   "outputs": [],
   "source": [
    "data_endtime = datetime.now().strftime(\"%Y%m%d %H:%M:%S\")"
   ]
  },
  {
   "cell_type": "code",
   "execution_count": 32,
   "metadata": {},
   "outputs": [
    {
     "name": "stdout",
     "output_type": "stream",
     "text": [
      "create_contract\n"
     ]
    }
   ],
   "source": [
    "contract_info = create.create_contract(\"GC\", \"FUT\", \"NYMEX\", \"USD\", \"201808\", \"GCN8\")"
   ]
  },
  {
   "cell_type": "code",
   "execution_count": 29,
   "metadata": {},
   "outputs": [
    {
     "name": "stdout",
     "output_type": "stream",
     "text": [
      "create_contract\n"
     ]
    }
   ],
   "source": [
    "tickerId = 9002\n",
    "contract_info = create.create_contract(\"GC\", \"FUT\", \"NYMEX\", \"USD\", \"201808\", \"GCN8\")\n",
    "tws.reqHistoricalData(tickerId, \n",
    "                      contract_info, \n",
    "                      data_endtime,\n",
    "                      \"1 M\", \n",
    "                      \"1 day\", \n",
    "                      \"BID\", \n",
    "                      0, \n",
    "                      1)"
   ]
  },
  {
   "cell_type": "code",
   "execution_count": 30,
   "metadata": {},
   "outputs": [
    {
     "name": "stdout",
     "output_type": "stream",
     "text": [
      "[(9002, '20180605', 1296.4, 1304.7, 1293.5, 1300.5, -1, -1, -1.0, False), (9002, '20180606', 1300.6, 1306.1, 1297.7, 1300.5, -1, -1, -1.0, False), (9002, '20180607', 1300.9, 1307.6, 1298.9, 1301.2, -1, -1, -1.0, False), (9002, '20180608', 1301.3, 1304.7, 1296.0, 1303.4, -1, -1, -1.0, False), (9002, '20180611', 1303.5, 1306.7, 1297.8, 1304.5, -1, -1, -1.0, False), (9002, '20180612', 1304.5, 1304.7, 1296.3, 1299.5, -1, -1, -1.0, False), (9002, '20180613', 1299.6, 1305.0, 1294.5, 1302.8, -1, -1, -1.0, False), (9002, '20180614', 1303.1, 1312.9, 1301.0, 1305.7, -1, -1, -1.0, False), (9002, '20180615', 1305.9, 1306.6, 1278.0, 1282.0, -1, -1, -1.0, False), (9002, '20180618', 1281.1, 1284.8, 1279.4, 1280.6, -1, -1, -1.0, False), (9002, '20180619', 1280.7, 1286.4, 1272.5, 1276.9, -1, -1, -1.0, False), (9002, '20180620', 1277.3, 1278.6, 1269.6, 1269.7, -1, -1, -1.0, False), (9002, '20180621', 1269.7, 1272.0, 1262.4, 1268.9, -1, -1, -1.0, False), (9002, '20180622', 1268.6, 1273.1, 1268.4, 1271.0, -1, -1, -1.0, False), (9002, '20180625', 1272.2, 1274.3, 1265.5, 1267.2, -1, -1, -1.0, False), (9002, '20180626', 1267.3, 1269.3, 1256.3, 1260.7, -1, -1, -1.0, False), (9002, '20180627', 1260.5, 1261.8, 1252.2, 1253.7, -1, -1, -1.0, False), (9002, '20180628', 1253.6, 1255.7, 1247.2, 1249.5, -1, -1, -1.0, False), (9002, '20180629', 1249.5, 1257.0, 1246.9, 1254.1, -1, -1, -1.0, False), (9002, '20180702', 1253.4, 1255.5, 1240.6, 1242.8, -1, -1, -1.0, False), (9002, '20180703', 1242.9, 1258.3, 1238.8, 1253.8, -1, -1, -1.0, False), (9002, '20180704', 1253.5, 1262.3, 1253.2, 1258.1, -1, -1, -1.0, False), (9002, 'finished-20180604  14:21:11-20180704  14:21:11', -1, -1, -1, -1, -1, -1, -1, False)]\n"
     ]
    }
   ],
   "source": [
    "print(callback.historical_Data)"
   ]
  },
  {
   "cell_type": "code",
   "execution_count": null,
   "metadata": {},
   "outputs": [],
   "source": []
  }
 ],
 "metadata": {
  "kernelspec": {
   "display_name": "Python 3",
   "language": "python",
   "name": "python3"
  },
  "language_info": {
   "codemirror_mode": {
    "name": "ipython",
    "version": 3
   },
   "file_extension": ".py",
   "mimetype": "text/x-python",
   "name": "python",
   "nbconvert_exporter": "python",
   "pygments_lexer": "ipython3",
   "version": "3.5.2"
  }
 },
 "nbformat": 4,
 "nbformat_minor": 2
}
