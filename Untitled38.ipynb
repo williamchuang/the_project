{
 "cells": [
  {
   "cell_type": "code",
   "execution_count": 1,
   "metadata": {},
   "outputs": [],
   "source": [
    "import warnings\n",
    "warnings.filterwarnings('ignore')\n",
    "import pandas as pd\n",
    "import numpy as np"
   ]
  },
  {
   "cell_type": "code",
   "execution_count": 2,
   "metadata": {},
   "outputs": [],
   "source": [
    "import time\n",
    "from datetime import datetime\n",
    "from IBWrapper import IBWrapper, contract\n",
    "from ib.ext.EClientSocket import EClientSocket\n",
    "from ib.ext.ScannerSubscription import ScannerSubscription"
   ]
  },
  {
   "cell_type": "code",
   "execution_count": 3,
   "metadata": {},
   "outputs": [],
   "source": [
    "accountName = \"U9038813\"\n",
    "callback = IBWrapper()             # Instantiate IBWrapper. callback \n",
    "tws = EClientSocket(callback)      # Instantiate EClientSocket and return data to callback\n",
    "# host = \"192.168.1.165\"\n",
    "host = \"\"\n",
    "port = 7497\n",
    "#port = 4001\n",
    "clientId = 2"
   ]
  },
  {
   "cell_type": "code",
   "execution_count": 4,
   "metadata": {},
   "outputs": [
    {
     "name": "stdout",
     "output_type": "stream",
     "text": [
      "Server Version: 76\n",
      "TWS Time at connection:20180803 15:58:56 EST\n",
      "[-1, 2104, 'Market data farm connection is OK:hfarm']\n",
      "[-1, 2104, 'Market data farm connection is OK:eufarm']\n",
      "[-1, 2104, 'Market data farm connection is OK:jfarm']\n",
      "[-1, 2104, 'Market data farm connection is OK:usfuture']\n",
      "[-1, 2104, 'Market data farm connection is OK:cashfarm']\n",
      "[-1, 2104, 'Market data farm connection is OK:usfarm.us']\n",
      "[-1, 2104, 'Market data farm connection is OK:usfarm']\n",
      "[-1, 2106, 'HMDS data farm connection is OK:ilhmds']\n",
      "[-1, 2106, 'HMDS data farm connection is OK:euhmds']\n",
      "[-1, 2106, 'HMDS data farm connection is OK:fundfarm']\n",
      "[-1, 2106, 'HMDS data farm connection is OK:ushmds']\n"
     ]
    }
   ],
   "source": [
    "tws.eConnect(host, port, clientId) # Connect to TWS\n"
   ]
  },
  {
   "cell_type": "code",
   "execution_count": 5,
   "metadata": {},
   "outputs": [],
   "source": [
    "tws.setServerLogLevel(5)           # Set error output to verbose"
   ]
  },
  {
   "cell_type": "code",
   "execution_count": 6,
   "metadata": {},
   "outputs": [],
   "source": [
    "create = contract()                # Instantiate contract class\n",
    "callback.initiate_variables()"
   ]
  },
  {
   "cell_type": "code",
   "execution_count": 7,
   "metadata": {},
   "outputs": [
    {
     "name": "stdout",
     "output_type": "stream",
     "text": [
      "create_contract\n"
     ]
    }
   ],
   "source": [
    "contract_info = create.create_contract(\"GC\", \"FUT\", \"NYMEX\", \"USD\", \"201808\", \"GCN8\")"
   ]
  },
  {
   "cell_type": "code",
   "execution_count": 39,
   "metadata": {},
   "outputs": [],
   "source": [
    "#first use\n",
    "tws.reqIds(1)\n",
    "order_id = callback.next_ValidId + 1"
   ]
  },
  {
   "cell_type": "code",
   "execution_count": 73,
   "metadata": {},
   "outputs": [],
   "source": [
    "#after the first use\n",
    "tws.reqIds(1)\n",
    "order_id = callback.next_ValidId + 6"
   ]
  },
  {
   "cell_type": "code",
   "execution_count": 74,
   "metadata": {},
   "outputs": [],
   "source": [
    "order_info = create.create_order(accountName,\"STP LMT\", 1, \"SELL\", lmt_price=1209, auxPrice=1210, outsideRth=True)"
   ]
  },
  {
   "cell_type": "code",
   "execution_count": 75,
   "metadata": {},
   "outputs": [],
   "source": [
    "tws.placeOrder(order_id, contract_info, order_info)"
   ]
  },
  {
   "cell_type": "code",
   "execution_count": 76,
   "metadata": {},
   "outputs": [],
   "source": [
    "order_info = create.create_order(accountName,\"LMT\", 1, \"BUY\", 1200.4, order_id)"
   ]
  },
  {
   "cell_type": "code",
   "execution_count": 77,
   "metadata": {},
   "outputs": [],
   "source": [
    "tws.placeOrder(order_id+1, contract_info, order_info)"
   ]
  },
  {
   "cell_type": "code",
   "execution_count": 78,
   "metadata": {},
   "outputs": [],
   "source": [
    "order_info = create.create_order(accountName,'STP', 1, \"BUY\", lmt_price=None, parentId=order_id, trailingstp=None, training_stop_percent=None, auxPrice=1212.4)"
   ]
  },
  {
   "cell_type": "code",
   "execution_count": 79,
   "metadata": {},
   "outputs": [
    {
     "name": "stdout",
     "output_type": "stream",
     "text": [
      "[43, 202, 'Order Canceled - reason:']\n",
      "[44, 202, 'Order Canceled - reason:']\n",
      "[47, 202, 'Order Canceled - reason:']\n",
      "[error('unpack requires a bytes object of length 1',), None, None]\n"
     ]
    }
   ],
   "source": [
    "tws.placeOrder(order_id+4, contract_info, order_info)"
   ]
  },
  {
   "cell_type": "code",
   "execution_count": 80,
   "metadata": {},
   "outputs": [],
   "source": [
    "import time\n",
    "from datetime import datetime\n",
    "Time=datetime.now().strftime(\"%Y%m%d %H:%M:%S.%f\")"
   ]
  },
  {
   "cell_type": "code",
   "execution_count": 81,
   "metadata": {},
   "outputs": [
    {
     "name": "stdout",
     "output_type": "stream",
     "text": [
      "20180805 23:24:23.158790\n"
     ]
    }
   ],
   "source": [
    "print(Time)"
   ]
  },
  {
   "cell_type": "code",
   "execution_count": null,
   "metadata": {},
   "outputs": [],
   "source": []
  }
 ],
 "metadata": {
  "kernelspec": {
   "display_name": "Python 3",
   "language": "python",
   "name": "python3"
  },
  "language_info": {
   "codemirror_mode": {
    "name": "ipython",
    "version": 3
   },
   "file_extension": ".py",
   "mimetype": "text/x-python",
   "name": "python",
   "nbconvert_exporter": "python",
   "pygments_lexer": "ipython3",
   "version": "3.5.2"
  }
 },
 "nbformat": 4,
 "nbformat_minor": 2
}
